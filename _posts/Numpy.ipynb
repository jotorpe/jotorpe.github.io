{
 "cells": [
  {
   "cell_type": "markdown",
   "metadata": {},
   "source": [
    "# NumPy\n",
    "\n",
    "It is a mathematical library with reference [here](https://numpy.org/).\n",
    "\n",
    "`import numpy as np`\n",
    "\n",
    "If you are looking for help on a certain topic you use `np.lookfor(\"solve\")`. It has mathematical constants. The arrays it creates can contain several types of variables, however it will work as if it were of only one type, the one with the most information. It seems that no two arrays can be assigned without both varying equally.\n"
   ]
  },
  {
   "cell_type": "code",
   "execution_count": 1,
   "metadata": {},
   "outputs": [],
   "source": [
    "import numpy as np\n",
    "# np.lookfor(\"gauss\")\n",
    "\n",
    "from IPython.core.interactiveshell import InteractiveShell\n",
    "InteractiveShell.ast_node_interactivity = \"all\"\n",
    "# show all ouputs of the same cell in the notebook, not only the last"
   ]
  },
  {
   "cell_type": "markdown",
   "metadata": {},
   "source": [
    "These are multidimensional matrix type objects (meshes) that have an efficient structure for computational calculation, and mathematical functions can be applied to them to operate easily. They are indicators, structurally speaking, that contain raw data, where they are found and how to interpret them. It is composed of the following elements that at the same time function as attributes:\n",
    "\n",
    "- `.data` memory address of the first byte.\n",
    "- `.dtype` describes the element type\n",
    "- `.shape` size\n",
    "- `.strides` number of bytes skipped to the next element. If we have (32, 8), typical for an array of type _int64_, then we have to skip 32 bytes for the next row and 8 for the next column.\n",
    "- `.size` number of total elements in the array\n",
    "\n",
    "The simplest way to create arrays is to provide lists, each corresponding to a row. It is also convenient when working with large volumes of data to optimize the operations, so the type of data is indicated."
   ]
  },
  {
   "cell_type": "code",
   "execution_count": 2,
   "metadata": {},
   "outputs": [
    {
     "data": {
      "text/plain": [
       "2"
      ]
     },
     "execution_count": 2,
     "metadata": {},
     "output_type": "execute_result"
    },
    {
     "data": {
      "text/plain": [
       "8"
      ]
     },
     "execution_count": 2,
     "metadata": {},
     "output_type": "execute_result"
    },
    {
     "data": {
      "text/plain": [
       "(2, 4)"
      ]
     },
     "execution_count": 2,
     "metadata": {},
     "output_type": "execute_result"
    },
    {
     "data": {
      "text/plain": [
       "2"
      ]
     },
     "execution_count": 2,
     "metadata": {},
     "output_type": "execute_result"
    },
    {
     "data": {
      "text/plain": [
       "array([[1., 2., 3., 4.],\n",
       "       [5., 6., 7., 8.]])"
      ]
     },
     "execution_count": 2,
     "metadata": {},
     "output_type": "execute_result"
    }
   ],
   "source": [
    "array1 = np.array(([1,2,3,4], [5,6,7,8]), dtype=np.int64)\n",
    "array1.ndim # number of dimensions\n",
    "array1.size # total number of elements\n",
    "array1.shape # shape of array\n",
    "len(array1) # size of first dimension\n",
    "array1.astype(float) # change data type"
   ]
  },
  {
   "cell_type": "markdown",
   "metadata": {},
   "source": [
    "In most cases we will not create arrays in this way, but the values will come from other files or it will be necessary to generate a sequence. For this purpose there are the following functions that create arrays as placeholders:"
   ]
  },
  {
   "cell_type": "code",
   "execution_count": 3,
   "metadata": {},
   "outputs": [
    {
     "data": {
      "text/plain": [
       "array([[2, 2, 2, 2],\n",
       "       [2, 2, 2, 2],\n",
       "       [2, 2, 2, 2],\n",
       "       [2, 2, 2, 2]])"
      ]
     },
     "execution_count": 3,
     "metadata": {},
     "output_type": "execute_result"
    },
    {
     "data": {
      "text/plain": [
       "array([[1, 1, 1, 1, 1],\n",
       "       [1, 1, 1, 1, 1],\n",
       "       [1, 1, 1, 1, 1],\n",
       "       [1, 1, 1, 1, 1],\n",
       "       [1, 1, 1, 1, 1]], dtype=int64)"
      ]
     },
     "execution_count": 3,
     "metadata": {},
     "output_type": "execute_result"
    },
    {
     "data": {
      "text/plain": [
       "array([[1, 1, 1, 1],\n",
       "       [1, 1, 1, 1]], dtype=int64)"
      ]
     },
     "execution_count": 3,
     "metadata": {},
     "output_type": "execute_result"
    },
    {
     "data": {
      "text/plain": [
       "array([[0., 0., 0., 0., 0.],\n",
       "       [0., 0., 0., 0., 0.],\n",
       "       [0., 0., 0., 0., 0.],\n",
       "       [0., 0., 0., 0., 0.],\n",
       "       [0., 0., 0., 0., 0.]])"
      ]
     },
     "execution_count": 3,
     "metadata": {},
     "output_type": "execute_result"
    },
    {
     "data": {
      "text/plain": [
       "array([[1., 0., 0.],\n",
       "       [0., 1., 0.],\n",
       "       [0., 0., 1.]])"
      ]
     },
     "execution_count": 3,
     "metadata": {},
     "output_type": "execute_result"
    },
    {
     "data": {
      "text/plain": [
       "array([[0.68998034, 0.26632362, 0.56800611, 0.07774563],\n",
       "       [0.54495157, 0.36904528, 0.76911217, 0.13414322],\n",
       "       [0.80328298, 0.27859485, 0.40634183, 0.56935069]])"
      ]
     },
     "execution_count": 3,
     "metadata": {},
     "output_type": "execute_result"
    },
    {
     "data": {
      "text/plain": [
       "array([0.  , 0.75, 1.5 , 2.25, 3.  ])"
      ]
     },
     "execution_count": 3,
     "metadata": {},
     "output_type": "execute_result"
    },
    {
     "data": {
      "text/plain": [
       "array([ 0, 10, 20])"
      ]
     },
     "execution_count": 3,
     "metadata": {},
     "output_type": "execute_result"
    },
    {
     "data": {
      "text/plain": [
       "array([1.00000000e+01, 5.62341325e+05, 3.16227766e+10, 1.77827941e+15,\n",
       "       1.00000000e+20])"
      ]
     },
     "execution_count": 3,
     "metadata": {},
     "output_type": "execute_result"
    },
    {
     "data": {
      "text/plain": [
       "array([[-5, -4, -3, -2, -1,  0,  1,  2,  3,  4]])"
      ]
     },
     "execution_count": 3,
     "metadata": {},
     "output_type": "execute_result"
    },
    {
     "data": {
      "text/plain": [
       "array([[-5],\n",
       "       [-4],\n",
       "       [-3],\n",
       "       [-2],\n",
       "       [-1],\n",
       "       [ 0],\n",
       "       [ 1],\n",
       "       [ 2],\n",
       "       [ 3],\n",
       "       [ 4]])"
      ]
     },
     "execution_count": 3,
     "metadata": {},
     "output_type": "execute_result"
    }
   ],
   "source": [
    "np.full((4,4), 2) #matrix full of 2s, indicated at the end\n",
    "np.ones((5,5), dtype=np.int64) #array of 1s, can be given type, same as zeros\n",
    "np.ones_like(array1) #builds an array equal to array1\n",
    "np.zeros((5,5)) #0s array\n",
    "np.eye(3) #identity array with that size\n",
    "np.random.random((3,4)) #array random values based on uniform distribution [0, 1)\n",
    "np.linspace(0,3,5) #vector of ten values, created equispatially from 0 to 3 (includes 3)\n",
    "np.arange(0,30,10) #vector starting at 0 and jumping 10 until reaching the value before 30 (this is not included)\n",
    "np.logspace(1, 20, num=5, base=10.0) #returns equispaced numbers on a logarithmic scale\n",
    "\n",
    "x = np.arange(-5, 5, 1)\n",
    "y = np.arange(-5, 5, 1)\n",
    "xx, yy = np.meshgrid(x, y, sparse=True) # vectorized evaluations of N-D scalar/vector fields over N-D grids\n",
    "# sparse True to conserve memory\n",
    "xx\n",
    "yy"
   ]
  },
  {
   "cell_type": "markdown",
   "metadata": {},
   "source": [
    "If the information comes from a plain text file such as txt or csv there is a very useful function that comes with several interesting parameters:"
   ]
  },
  {
   "cell_type": "code",
   "execution_count": 4,
   "metadata": {},
   "outputs": [],
   "source": [
    "#array1 = np.genfromtxt('datos.csv', delimiter= ';', autostrip= True, skip_header=1, filling_values=-9999, usecols = (1, 3, 5), max_rows=6)"
   ]
  },
  {
   "cell_type": "markdown",
   "metadata": {},
   "source": [
    "In order each parameter means the following: value delimiter, remove blanks, skip header, fill in missing values, columns to choose from and maximum number of rows it takes.\n",
    "\n",
    "Once you are done working with them you can save them either as txt or a binary format to work with numpy again:"
   ]
  },
  {
   "cell_type": "code",
   "execution_count": 5,
   "metadata": {},
   "outputs": [],
   "source": [
    "#np.savetxt('name.txt', array1, delimiter=',')\n",
    "#np.save(name, array1) #with extension .npy\n",
    "#np.savez(name2, x=array1, y=array2) #extension .npz, can also be saved as simple args"
   ]
  },
  {
   "cell_type": "markdown",
   "metadata": {},
   "source": [
    "To open numpy binary files, use `load`:"
   ]
  },
  {
   "cell_type": "code",
   "execution_count": 6,
   "metadata": {},
   "outputs": [],
   "source": [
    "#arrayload = np.load('name.npy') #loaded as an array\n",
    "#arraygroup = np.load('name2.npz')\n",
    "#arraygroup['x'] #array1\n",
    "#arraygroup.close() #when you call the array you have to close it"
   ]
  },
  {
   "cell_type": "markdown",
   "metadata": {},
   "source": [
    "A peculiar concept in this environment is called broadcasting which is used to be able to perform arithmetic operations with arrays of different dimensions. A standard case is when you want to add or multiply a vector to all rows of an array. To achieve this, three points must be taken into account: (i) the dimensions must be compatible, this is given if they are equal; (ii) if an array has a dimension value of 1 they will also be compatible; (iii) the maximum dimension of each array gives the final result."
   ]
  },
  {
   "cell_type": "code",
   "execution_count": 7,
   "metadata": {},
   "outputs": [
    {
     "data": {
      "text/plain": [
       "array([[[1., 1., 1.],\n",
       "        [1., 1., 1.]],\n",
       "\n",
       "       [[1., 1., 1.],\n",
       "        [1., 1., 1.]],\n",
       "\n",
       "       [[1., 1., 1.],\n",
       "        [1., 1., 1.]],\n",
       "\n",
       "       [[1., 1., 1.],\n",
       "        [1., 1., 1.]]])"
      ]
     },
     "execution_count": 7,
     "metadata": {},
     "output_type": "execute_result"
    },
    {
     "data": {
      "text/plain": [
       "array([[[0., 0., 0., 0.]],\n",
       "\n",
       "       [[0., 0., 0., 0.]],\n",
       "\n",
       "       [[0., 0., 0., 0.]]])"
      ]
     },
     "execution_count": 7,
     "metadata": {},
     "output_type": "execute_result"
    }
   ],
   "source": [
    "x1 = np.ones((2,3))\n",
    "y1 = np.zeros((4,1,3))\n",
    "x1 + y1 # results in (4,2,3)\n",
    "np.transpose(y1)"
   ]
  },
  {
   "cell_type": "markdown",
   "metadata": {},
   "source": [
    "There are two possibilities to resize an array. The first one is to use a function, in which it is virtually transformed into a vector and in order the elements are imposed, if it is greater than the number of elements, this vector is restarted until it is completed. The second uses a method, in which the missing is filled with 0s. If you want to change the dimensions respecting the current size (rows*columns) you will use another reshape method, but making sure that the result is consistent."
   ]
  },
  {
   "cell_type": "code",
   "execution_count": 8,
   "metadata": {},
   "outputs": [
    {
     "data": {
      "text/plain": [
       "array([[1., 1., 1.],\n",
       "       [1., 1., 1.],\n",
       "       [1., 1., 1.]])"
      ]
     },
     "execution_count": 8,
     "metadata": {},
     "output_type": "execute_result"
    },
    {
     "data": {
      "text/plain": [
       "array([1., 1., 1., 1., 1., 1., 0., 0., 0.])"
      ]
     },
     "execution_count": 8,
     "metadata": {},
     "output_type": "execute_result"
    },
    {
     "data": {
      "text/plain": [
       "array([[1.],\n",
       "       [1.],\n",
       "       [1.],\n",
       "       [1.],\n",
       "       [1.],\n",
       "       [1.],\n",
       "       [0.],\n",
       "       [0.],\n",
       "       [0.]])"
      ]
     },
     "execution_count": 8,
     "metadata": {},
     "output_type": "execute_result"
    }
   ],
   "source": [
    "x1 = np.ones((2,3))\n",
    "np.resize(x1, (3,3)) #function\n",
    "x1.resize((3,3)) #method\n",
    "x1.ravel() #1D row\n",
    "x1.reshape(9,1) #column"
   ]
  },
  {
   "cell_type": "markdown",
   "metadata": {},
   "source": [
    "You can attach elements as in lists, indicate the position in which they are inserted or delete those indicated:"
   ]
  },
  {
   "cell_type": "code",
   "execution_count": 9,
   "metadata": {},
   "outputs": [
    {
     "data": {
      "text/plain": [
       "array([1., 1., 1., 1., 1., 1., 2., 3., 4., 5.])"
      ]
     },
     "execution_count": 9,
     "metadata": {},
     "output_type": "execute_result"
    },
    {
     "data": {
      "text/plain": [
       "array([[1., 1., 1., 7.],\n",
       "       [1., 1., 1., 9.]])"
      ]
     },
     "execution_count": 9,
     "metadata": {},
     "output_type": "execute_result"
    },
    {
     "data": {
      "text/plain": [
       "array([1., 1., 1., 4., 1., 1., 1.])"
      ]
     },
     "execution_count": 9,
     "metadata": {},
     "output_type": "execute_result"
    },
    {
     "data": {
      "text/plain": [
       "array([[1., 1., 4., 1.],\n",
       "       [1., 1., 4., 1.]])"
      ]
     },
     "execution_count": 9,
     "metadata": {},
     "output_type": "execute_result"
    },
    {
     "data": {
      "text/plain": [
       "array([1., 1., 1., 1., 1.])"
      ]
     },
     "execution_count": 9,
     "metadata": {},
     "output_type": "execute_result"
    },
    {
     "data": {
      "text/plain": [
       "array([[1., 1., 1.]])"
      ]
     },
     "execution_count": 9,
     "metadata": {},
     "output_type": "execute_result"
    }
   ],
   "source": [
    "x1 = np.ones((2,3))\n",
    "np.append(x1, [2,3,4,5])\n",
    "np.append(x1, [[7],[9]], axis=1) #indicates adding a column with those values\n",
    "np.insert(x1, 3, 4) #the first being the position and the second the value\n",
    "np.insert(x1, 2, 4, axis=1) #position 2 value 4 according to columns (axis=1)\n",
    "np.delete(x1,[2]) #position value to delete\n",
    "np.delete(x1, 1, 0) #delete row of position 1 indicated by axis=0"
   ]
  },
  {
   "cell_type": "markdown",
   "metadata": {},
   "source": [
    "A function similar to append concatenates two arrays only if they have the same dimensions. If you want to stack several arrays they must have the same columns."
   ]
  },
  {
   "cell_type": "code",
   "execution_count": 10,
   "metadata": {},
   "outputs": [
    {
     "data": {
      "text/plain": [
       "array([[1., 1., 1.],\n",
       "       [1., 1., 1.],\n",
       "       [0., 0., 0.],\n",
       "       [0., 0., 0.]])"
      ]
     },
     "execution_count": 10,
     "metadata": {},
     "output_type": "execute_result"
    },
    {
     "data": {
      "text/plain": [
       "array([[1., 1., 1.],\n",
       "       [1., 1., 1.],\n",
       "       [0., 0., 0.],\n",
       "       [0., 0., 0.],\n",
       "       [0., 0., 0.],\n",
       "       [0., 0., 0.]])"
      ]
     },
     "execution_count": 10,
     "metadata": {},
     "output_type": "execute_result"
    }
   ],
   "source": [
    "x1 = np.ones((2,3))\n",
    "x2 = np.zeros((2,3))\n",
    "x3 = np.zeros((4,3))\n",
    "np.concatenate((x1,x2))\n",
    "np.vstack((x1, x3)) "
   ]
  },
  {
   "cell_type": "markdown",
   "metadata": {},
   "source": [
    "The library comes with frequently used mathematical functions, which can be applied to the components of a matrix or to a value. When the axis parameter is used it refers to the axis of the matrix, which for a 2D matrix would be 0 for the rows and 1 for the columns."
   ]
  },
  {
   "cell_type": "code",
   "execution_count": 11,
   "metadata": {},
   "outputs": [
    {
     "data": {
      "text/plain": [
       "array([-5, -4, -3, -2, -1,  0,  1,  2,  3,  4])"
      ]
     },
     "execution_count": 11,
     "metadata": {},
     "output_type": "execute_result"
    },
    {
     "data": {
      "text/plain": [
       "-5"
      ]
     },
     "execution_count": 11,
     "metadata": {},
     "output_type": "execute_result"
    },
    {
     "data": {
      "text/plain": [
       "-0.5"
      ]
     },
     "execution_count": 11,
     "metadata": {},
     "output_type": "execute_result"
    },
    {
     "data": {
      "text/plain": [
       "-0.5"
      ]
     },
     "execution_count": 11,
     "metadata": {},
     "output_type": "execute_result"
    },
    {
     "data": {
      "text/plain": [
       "4"
      ]
     },
     "execution_count": 11,
     "metadata": {},
     "output_type": "execute_result"
    },
    {
     "data": {
      "text/plain": [
       "1.0"
      ]
     },
     "execution_count": 11,
     "metadata": {},
     "output_type": "execute_result"
    },
    {
     "data": {
      "text/plain": [
       "2.8722813232690143"
      ]
     },
     "execution_count": 11,
     "metadata": {},
     "output_type": "execute_result"
    },
    {
     "data": {
      "text/plain": [
       "array([ -5,  -9, -12, -14, -15, -15, -14, -12,  -9,  -5], dtype=int32)"
      ]
     },
     "execution_count": 11,
     "metadata": {},
     "output_type": "execute_result"
    },
    {
     "data": {
      "text/plain": [
       "2.0"
      ]
     },
     "execution_count": 11,
     "metadata": {},
     "output_type": "execute_result"
    },
    {
     "data": {
      "text/plain": [
       "1.2246467991473532e-16"
      ]
     },
     "execution_count": 11,
     "metadata": {},
     "output_type": "execute_result"
    },
    {
     "data": {
      "text/plain": [
       "-1.0"
      ]
     },
     "execution_count": 11,
     "metadata": {},
     "output_type": "execute_result"
    },
    {
     "data": {
      "text/plain": [
       "1.0"
      ]
     },
     "execution_count": 11,
     "metadata": {},
     "output_type": "execute_result"
    },
    {
     "data": {
      "text/plain": [
       "2.718281828459045"
      ]
     },
     "execution_count": 11,
     "metadata": {},
     "output_type": "execute_result"
    },
    {
     "data": {
      "text/plain": [
       "(-21+0j)"
      ]
     },
     "execution_count": 11,
     "metadata": {},
     "output_type": "execute_result"
    },
    {
     "data": {
      "text/plain": [
       "array([[16,  4],\n",
       "       [12, 24]])"
      ]
     },
     "execution_count": 11,
     "metadata": {},
     "output_type": "execute_result"
    }
   ],
   "source": [
    "array = np.arange(-5,5,1)\n",
    "array\n",
    "array.sum() #sum of all elements\n",
    "array.mean() #means all\n",
    "np.median(array) #median\n",
    "array.max(axis=0) #maximum value in rows\n",
    "np.corrcoef(array) #correlation coefficient\n",
    "np.std(array) #standard deviation\n",
    "array.cumsum(axis=0) #cumulative sum of elements\n",
    "\n",
    "np.sqrt(4) #square root\n",
    "np.sin(np.pi) #sine\n",
    "np.cos(np.pi) #cosine\n",
    "np.log(np.e) #natural logarithm\n",
    "np.exp(1) #exponential\n",
    "np.dot([2j, 3j], [3j, 5j]) # matrix multiplication\n",
    "a = [[4, 0], [0, 3]]\n",
    "b = [[4, 1], [4, 8]]\n",
    "np.dot(a, b)"
   ]
  },
  {
   "cell_type": "markdown",
   "metadata": {},
   "source": [
    "Comparisons of elements can be made by means of ==, < and >.  In the same way there are other functions to work with booleans, either by directly comparing these values as a result of some previous operation (True, True, False...) or by imposing some condition:"
   ]
  },
  {
   "cell_type": "code",
   "execution_count": 12,
   "metadata": {},
   "outputs": [
    {
     "data": {
      "text/plain": [
       "array([False, False, False,  True])"
      ]
     },
     "execution_count": 12,
     "metadata": {},
     "output_type": "execute_result"
    },
    {
     "data": {
      "text/plain": [
       "array([ True,  True,  True,  True])"
      ]
     },
     "execution_count": 12,
     "metadata": {},
     "output_type": "execute_result"
    },
    {
     "data": {
      "text/plain": [
       "array([ True,  True,  True, False])"
      ]
     },
     "execution_count": 12,
     "metadata": {},
     "output_type": "execute_result"
    }
   ],
   "source": [
    "array = np.arange(-2,2,1)\n",
    "np.logical_and(array>0, array<6)\n",
    "np.logical_or(array>0, array<6)\n",
    "np.logical_not(array>0, array<6)"
   ]
  },
  {
   "cell_type": "markdown",
   "metadata": {},
   "source": [
    "Comparisons return arrays of booleans. There are several methods:"
   ]
  },
  {
   "cell_type": "code",
   "execution_count": 13,
   "metadata": {},
   "outputs": [
    {
     "data": {
      "text/plain": [
       "False"
      ]
     },
     "execution_count": 13,
     "metadata": {},
     "output_type": "execute_result"
    },
    {
     "data": {
      "text/plain": [
       "True"
      ]
     },
     "execution_count": 13,
     "metadata": {},
     "output_type": "execute_result"
    }
   ],
   "source": [
    "np.all(array>0)\n",
    "np.any(array>0)\n",
    "#np.isclose(A,B,rtol=1e-6)\n",
    "#np.allclose(A,B,rtol=1e-6) # compare with a tolerance due to the float accuracy problem"
   ]
  },
  {
   "cell_type": "markdown",
   "metadata": {},
   "source": [
    "To deal only with certain parts of an array there are several options. The index operator is [] and inside it will contain references to elements (if there is more than one array), rows and columns."
   ]
  },
  {
   "cell_type": "code",
   "execution_count": 14,
   "metadata": {},
   "outputs": [
    {
     "data": {
      "text/plain": [
       "array([[1, 2, 3, 4],\n",
       "       [5, 6, 7, 8]])"
      ]
     },
     "execution_count": 14,
     "metadata": {},
     "output_type": "execute_result"
    },
    {
     "data": {
      "text/plain": [
       "array([1, 2, 3, 4])"
      ]
     },
     "execution_count": 14,
     "metadata": {},
     "output_type": "execute_result"
    },
    {
     "data": {
      "text/plain": [
       "1"
      ]
     },
     "execution_count": 14,
     "metadata": {},
     "output_type": "execute_result"
    },
    {
     "data": {
      "text/plain": [
       "array([2, 3])"
      ]
     },
     "execution_count": 14,
     "metadata": {},
     "output_type": "execute_result"
    },
    {
     "data": {
      "text/plain": [
       "array([1, 3])"
      ]
     },
     "execution_count": 14,
     "metadata": {},
     "output_type": "execute_result"
    },
    {
     "data": {
      "text/plain": [
       "array([[5, 6, 7, 8]])"
      ]
     },
     "execution_count": 14,
     "metadata": {},
     "output_type": "execute_result"
    },
    {
     "data": {
      "text/plain": [
       "array([1, 2, 3])"
      ]
     },
     "execution_count": 14,
     "metadata": {},
     "output_type": "execute_result"
    },
    {
     "data": {
      "text/plain": [
       "array([4, 5, 6, 7, 8])"
      ]
     },
     "execution_count": 14,
     "metadata": {},
     "output_type": "execute_result"
    },
    {
     "data": {
      "text/plain": [
       "array([5, 6, 2])"
      ]
     },
     "execution_count": 14,
     "metadata": {},
     "output_type": "execute_result"
    },
    {
     "data": {
      "text/plain": [
       "array([[5, 6, 7, 5],\n",
       "       [1, 2, 3, 1],\n",
       "       [5, 6, 7, 5]])"
      ]
     },
     "execution_count": 14,
     "metadata": {},
     "output_type": "execute_result"
    }
   ],
   "source": [
    "A = np.array(([1,2,3,4], [5,6,7,8]))\n",
    "A\n",
    "##subsetting\n",
    "A[0] \n",
    "A[0,0] \n",
    "##slicing\n",
    "A[0,1:3] # 2,3\n",
    "A[0,::2] # 1,3\n",
    "A[1:] # 5,6,7,8\n",
    "A[0,:3] #1,2,3\n",
    "##boolean\n",
    "A[A>3] #4,5,6,7,8\n",
    "##fancy indexing\n",
    "A[[1,1,0],[0,1,1]] #rows and columns 5,6,2\n",
    "A[[1, 0, 1]][:,[0,1,2,0]] # take those rows, keep them (:) and sort them by those columns 5,6,7,5 ; 1,2,3,1; 5,6,7,5"
   ]
  },
  {
   "cell_type": "markdown",
   "metadata": {},
   "source": [
    "The topic of linear algebra (np.linalg) is covered with functions such as norm of a vector, inverse of a matrix, determinant, trace, system resolution, eigenvalues and eigenvectors, matrix decompositions (QR, SVD) and pseudoinverses. \n",
    "\n",
    "To solve a system of type x0 + 2 * x1 = 1 and 3 * x0 + 5 * x1 = 2"
   ]
  },
  {
   "cell_type": "code",
   "execution_count": 15,
   "metadata": {},
   "outputs": [
    {
     "data": {
      "text/plain": [
       "array([-1.,  1.])"
      ]
     },
     "execution_count": 15,
     "metadata": {},
     "output_type": "execute_result"
    },
    {
     "data": {
      "text/plain": [
       "True"
      ]
     },
     "execution_count": 15,
     "metadata": {},
     "output_type": "execute_result"
    }
   ],
   "source": [
    "a = np.array([[1, 2], [3, 5]])\n",
    "b = np.array([1, 2])\n",
    "x = np.linalg.solve(a, b)\n",
    "x\n",
    "np.allclose(np.dot(a, x), b) # checking solution "
   ]
  },
  {
   "cell_type": "markdown",
   "metadata": {},
   "source": [
    "Some applications with a graphical approach include histograms, as such are not represented visually, but serve to see the frequency of each value, that yes, we have to indicate the containers (bin). To visualize it we will use matplotlib, providing the input as a flat array:"
   ]
  },
  {
   "cell_type": "code",
   "execution_count": 16,
   "metadata": {},
   "outputs": [
    {
     "data": {
      "text/plain": [
       "(array([0, 1, 1, 1, 1, 1, 1, 1, 1, 0, 0, 0, 0, 0, 0, 0, 0, 0, 0],\n",
       "       dtype=int64),\n",
       " array([ 0,  1,  2,  3,  4,  5,  6,  7,  8,  9, 10, 11, 12, 13, 14, 15, 16,\n",
       "        17, 18, 19]))"
      ]
     },
     "execution_count": 16,
     "metadata": {},
     "output_type": "execute_result"
    }
   ],
   "source": [
    "np.histogram(array1, bins=range(0,20)) # range is set knowing the values within the array"
   ]
  },
  {
   "cell_type": "code",
   "execution_count": null,
   "metadata": {},
   "outputs": [],
   "source": []
  }
 ],
 "metadata": {
  "kernelspec": {
   "display_name": "Python 3",
   "language": "python",
   "name": "python3"
  },
  "language_info": {
   "codemirror_mode": {
    "name": "ipython",
    "version": 3
   },
   "file_extension": ".py",
   "mimetype": "text/x-python",
   "name": "python",
   "nbconvert_exporter": "python",
   "pygments_lexer": "ipython3",
   "version": "3.8.8"
  }
 },
 "nbformat": 4,
 "nbformat_minor": 4
}
